{
 "cells": [
  {
   "cell_type": "code",
   "execution_count": 5,
   "metadata": {},
   "outputs": [
    {
     "name": "stdout",
     "output_type": "stream",
     "text": [
      "how many element you wnat in the list:10\n",
      "4\n",
      "7\n",
      "5\n",
      "6\n",
      "9\n",
      "8\n",
      "7\n",
      "6\n",
      "4\n",
      "8\n",
      "[4, 4, 5, 6, 6, 7, 7, 8, 8, 9]\n"
     ]
    }
   ],
   "source": [
    "def insertionSort(list):\n",
    "    for i in range(1,len(list)):\n",
    "        key=list[i]\n",
    "        pos=i\n",
    "        while key<list[pos-1] and pos>0:\n",
    "            list[pos]=list[pos-1]\n",
    "            pos=pos-1\n",
    "        list[pos]=key\n",
    "num=int(input(\"how many element you wnat in the list:\"))\n",
    "list1=[int(input())for i in range(num)]\n",
    "insertionSort(list1)\n",
    "print(list1)"
   ]
  }
 ],
 "metadata": {
  "kernelspec": {
   "display_name": "Python 3",
   "language": "python",
   "name": "python3"
  },
  "language_info": {
   "codemirror_mode": {
    "name": "ipython",
    "version": 3
   },
   "file_extension": ".py",
   "mimetype": "text/x-python",
   "name": "python",
   "nbconvert_exporter": "python",
   "pygments_lexer": "ipython3",
   "version": "3.8.5"
  }
 },
 "nbformat": 4,
 "nbformat_minor": 4
}
